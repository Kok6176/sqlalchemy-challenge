{
 "cells": [
  {
   "cell_type": "code",
   "execution_count": 1,
   "metadata": {},
   "outputs": [],
   "source": [
    "%matplotlib inline\n",
    "from matplotlib import style\n",
    "style.use('fivethirtyeight')\n",
    "import matplotlib.pyplot as plt"
   ]
  },
  {
   "cell_type": "code",
   "execution_count": 2,
   "metadata": {},
   "outputs": [],
   "source": [
    "import numpy as np\n",
    "import pandas as pd\n",
    "import datetime as dt"
   ]
  },
  {
   "cell_type": "markdown",
   "metadata": {},
   "source": [
    "## Reflect Tables into SQLALchemy ORM"
   ]
  },
  {
   "cell_type": "code",
   "execution_count": 3,
   "metadata": {},
   "outputs": [],
   "source": [
    "# Python SQL toolkit and Object Relational Mapper\n",
    "import sqlalchemy\n",
    "from sqlalchemy.ext.automap import automap_base\n",
    "from sqlalchemy.orm import Session\n",
    "from sqlalchemy import create_engine, func"
   ]
  },
  {
   "cell_type": "code",
   "execution_count": 4,
   "metadata": {},
   "outputs": [],
   "source": [
    "# create engine to hawaii.sqlite\n",
    "engine = create_engine(\"sqlite:///Resources/hawaii.sqlite\")"
   ]
  },
  {
   "cell_type": "code",
   "execution_count": 5,
   "metadata": {},
   "outputs": [],
   "source": [
    "# reflect an existing database into a new model\n",
    "Base = automap_base()\n",
    "# reflect the tables\n",
    "Base.prepare(engine,reflect=True)"
   ]
  },
  {
   "cell_type": "code",
   "execution_count": 6,
   "metadata": {},
   "outputs": [
    {
     "data": {
      "text/plain": [
       "['measurement', 'station']"
      ]
     },
     "execution_count": 6,
     "metadata": {},
     "output_type": "execute_result"
    }
   ],
   "source": [
    "# View all of the classes that automap found\n",
    "Base.classes.keys()"
   ]
  },
  {
   "cell_type": "code",
   "execution_count": 7,
   "metadata": {},
   "outputs": [],
   "source": [
    "# Save references to each table\n",
    "measure = Base.classes.measurement\n",
    "station = Base.classes.station"
   ]
  },
  {
   "cell_type": "code",
   "execution_count": 8,
   "metadata": {},
   "outputs": [],
   "source": [
    "# Create our session (link) from Python to the DB\n",
    "session = Session(engine)"
   ]
  },
  {
   "cell_type": "markdown",
   "metadata": {},
   "source": [
    "## Bonus Challenge Assignment: Temperature Analysis II"
   ]
  },
  {
   "cell_type": "code",
   "execution_count": 9,
   "metadata": {},
   "outputs": [
    {
     "name": "stdout",
     "output_type": "stream",
     "text": [
      "[(62.0, 69.57142857142857, 74.0)]\n"
     ]
    }
   ],
   "source": [
    "# This function called `calc_temps` will accept start date and end date in the format '%Y-%m-%d' \n",
    "# and return the minimum, maximum, and average temperatures for that range of dates\n",
    "def calc_temps(start_date, end_date):\n",
    "    \"\"\"TMIN, TAVG, and TMAX for a list of dates.\n",
    "    \n",
    "    Args:\n",
    "        start_date (string): A date string in the format %Y-%m-%d\n",
    "        end_date (string): A date string in the format %Y-%m-%d\n",
    "        \n",
    "    Returns:\n",
    "        TMIN, TAVE, and TMAX\n",
    "    \"\"\"\n",
    "    \n",
    "    return session.query(func.min(measure.tobs), func.avg(measure.tobs), func.max(measure.tobs)).\\\n",
    "        filter(measure.date >= start_date).filter(measure.date <= end_date).all()\n",
    "\n",
    "# For example\n",
    "print(calc_temps('2012-02-28', '2012-03-05'))"
   ]
  },
  {
   "cell_type": "code",
   "execution_count": 10,
   "metadata": {},
   "outputs": [
    {
     "name": "stdout",
     "output_type": "stream",
     "text": [
      " start date: 2016-08-23 |  end date: 2017-08-23\n",
      "Minimum temp: 58.0 | Average temp: 74.59058295964125 | Max temp: 87.0\n"
     ]
    }
   ],
   "source": [
    "# Use the function `calc_temps` to calculate the tmin, tavg, and tmax \n",
    "# for a year in the data set\n",
    "max_dt = session.query(func.max(measure.date)).all()\n",
    "max_dt[0][0]\n",
    "start_dt= dt.datetime.strptime(max_dt[0][0],\"%Y-%m-%d\").date()\n",
    "start_dt\n",
    "end_dt = start_dt - dt.timedelta(days=365)\n",
    "end_dt\n",
    "# --- call the calc_temps function with the previous year dates calculated above ---\n",
    "temps = calc_temps(end_dt, start_dt)\n",
    "tmin = temps[0][0]\n",
    "tavg = temps[0][1]\n",
    "tmax = temps[0][2]\n",
    "print(f\" start date: {end_dt} |  end date: {start_dt}\")\n",
    "print(f\"Minimum temp: {tmin} | Average temp: {tavg} | Max temp: {tmax}\")"
   ]
  },
  {
   "cell_type": "code",
   "execution_count": 11,
   "metadata": {},
   "outputs": [
    {
     "data": {
      "image/png": "[encoded data removed]",
      "text/plain": [
       "<Figure size 288x504 with 1 Axes>"
      ]
     },
     "metadata": {},
     "output_type": "display_data"
    }
   ],
   "source": [
    "# Plot the results from your previous query as a bar chart. \n",
    "# Use \"Trip Avg Temp\" as your Title\n",
    "# Use the average temperature for bar height (y value)\n",
    "# Use the peak-to-peak (tmax-tmin) value as the y error bar (yerr)\n",
    "# --- calculate yerror value ((tmax-tmin) ---\n",
    "yerror = tmax-tmin\n",
    "\n",
    "# --- plot data as bar chart ---\n",
    "plt.figure(figsize = (4,7))\n",
    "plt.bar(2, height=tavg, yerr=yerror, width = 2, color='green', alpha = 0.65,  align='center')\n",
    "xaxis_values = np.arange(-0.3,3.8, step=1)\n",
    "plt.title(\"Trip Avg Temp (F)\", fontsize = 16)\n",
    "plt.ylabel(\"Temp (F)\", fontsize=14)\n",
    "plt.ylim(0,105)\n",
    "plt.xticks(xaxis_values, \"\")\n",
    "\n",
    "plt.tight_layout()\n",
    "plt.show()"
   ]
  },
  {
   "cell_type": "markdown",
   "metadata": {},
   "source": [
    "### Daily Rainfall Average"
   ]
  },
  {
   "cell_type": "code",
   "execution_count": 12,
   "metadata": {},
   "outputs": [
    {
     "data": {
      "text/html": [
       "<div>\n",
       "<style scoped>\n",
       "    .dataframe tbody tr th:only-of-type {\n",
       "        vertical-align: middle;\n",
       "    }\n",
       "\n",
       "    .dataframe tbody tr th {\n",
       "        vertical-align: top;\n",
       "    }\n",
       "\n",
       "    .dataframe thead th {\n",
       "        text-align: right;\n",
       "    }\n",
       "</style>\n",
       "<table border=\"1\" class=\"dataframe\">\n",
       "  <thead>\n",
       "    <tr style=\"text-align: right;\">\n",
       "      <th></th>\n",
       "      <th>station</th>\n",
       "      <th>total precipitation (in)</th>\n",
       "      <th>name</th>\n",
       "      <th>latitude</th>\n",
       "      <th>longitude</th>\n",
       "      <th>elevation</th>\n",
       "    </tr>\n",
       "  </thead>\n",
       "  <tbody>\n",
       "    <tr>\n",
       "      <th>0</th>\n",
       "      <td>USC00516128</td>\n",
       "      <td>2.87</td>\n",
       "      <td>MANOA LYON ARBO 785.2, HI US</td>\n",
       "      <td>21.33310</td>\n",
       "      <td>-157.80250</td>\n",
       "      <td>152.4</td>\n",
       "    </tr>\n",
       "    <tr>\n",
       "      <th>1</th>\n",
       "      <td>USC00519281</td>\n",
       "      <td>1.64</td>\n",
       "      <td>WAIHEE 837.5, HI US</td>\n",
       "      <td>21.45167</td>\n",
       "      <td>-157.84889</td>\n",
       "      <td>32.9</td>\n",
       "    </tr>\n",
       "    <tr>\n",
       "      <th>2</th>\n",
       "      <td>USC00513117</td>\n",
       "      <td>0.83</td>\n",
       "      <td>KANEOHE 838.1, HI US</td>\n",
       "      <td>21.42340</td>\n",
       "      <td>-157.80150</td>\n",
       "      <td>14.6</td>\n",
       "    </tr>\n",
       "    <tr>\n",
       "      <th>3</th>\n",
       "      <td>USC00514830</td>\n",
       "      <td>0.39</td>\n",
       "      <td>KUALOA RANCH HEADQUARTERS 886.9, HI US</td>\n",
       "      <td>21.52130</td>\n",
       "      <td>-157.83740</td>\n",
       "      <td>7.0</td>\n",
       "    </tr>\n",
       "    <tr>\n",
       "      <th>4</th>\n",
       "      <td>USC00519397</td>\n",
       "      <td>0.21</td>\n",
       "      <td>WAIKIKI 717.2, HI US</td>\n",
       "      <td>21.27160</td>\n",
       "      <td>-157.81680</td>\n",
       "      <td>3.0</td>\n",
       "    </tr>\n",
       "    <tr>\n",
       "      <th>5</th>\n",
       "      <td>USC00519523</td>\n",
       "      <td>0.13</td>\n",
       "      <td>WAIMANALO EXPERIMENTAL FARM, HI US</td>\n",
       "      <td>21.33556</td>\n",
       "      <td>-157.71139</td>\n",
       "      <td>19.5</td>\n",
       "    </tr>\n",
       "  </tbody>\n",
       "</table>\n",
       "</div>"
      ],
      "text/plain": [
       "       station  total precipitation (in)  \\\n",
       "0  USC00516128                      2.87   \n",
       "1  USC00519281                      1.64   \n",
       "2  USC00513117                      0.83   \n",
       "3  USC00514830                      0.39   \n",
       "4  USC00519397                      0.21   \n",
       "5  USC00519523                      0.13   \n",
       "\n",
       "                                     name  latitude  longitude  elevation  \n",
       "0            MANOA LYON ARBO 785.2, HI US  21.33310 -157.80250      152.4  \n",
       "1                     WAIHEE 837.5, HI US  21.45167 -157.84889       32.9  \n",
       "2                    KANEOHE 838.1, HI US  21.42340 -157.80150       14.6  \n",
       "3  KUALOA RANCH HEADQUARTERS 886.9, HI US  21.52130 -157.83740        7.0  \n",
       "4                    WAIKIKI 717.2, HI US  21.27160 -157.81680        3.0  \n",
       "5      WAIMANALO EXPERIMENTAL FARM, HI US  21.33556 -157.71139       19.5  "
      ]
     },
     "execution_count": 12,
     "metadata": {},
     "output_type": "execute_result"
    }
   ],
   "source": [
    "# Calculate the total amount of rainfall per weather station for your trip dates using the previous year's \n",
    "# matching dates.\n",
    "# Sort this in descending order by precipitation amount and list the station, name, latitude, longitude, and elevation\n",
    "# --- define start and end dates of vacation ---\n",
    "start_date = '2018-07-01'\n",
    "end_date = '2018-07-15'\n",
    "\n",
    "# --- convert string date to date format for use with datetime library ---\n",
    "start_dt = (dt.datetime.strptime(start_date, \"%Y-%m-%d\")).date()\n",
    "end_dt = (dt.datetime.strptime(end_date, \"%Y-%m-%d\")).date()\n",
    "\n",
    "# --- calculate the dates 1 year ago from the start_date and end_date (using dt.timedelta) ---\n",
    "startdate_oneyearago = start_dt - dt.timedelta(days=365)\n",
    "enddate_oneyearago = end_dt - dt.timedelta(days=365)\n",
    "\n",
    "# --- get all precipitation data from dataset for one year ago dates using SQLAlchemy and save in dataframe ---\n",
    "prcp_station_df = pd.DataFrame(session.query(measure.date, measure.station, measure.prcp).\\\n",
    "                               filter((measure.date >= startdate_oneyearago) & \\\n",
    "                               (measure.date <= enddate_oneyearago)).all())\n",
    "\n",
    "# --- check and drop null values from prcp_station_df---\n",
    "prcp_station_df.dropna(axis=0, how=\"any\", inplace=True)\n",
    "\n",
    "# --- group by station and get total precipitation amount for each station ---\n",
    "total_prcp = pd.DataFrame(prcp_station_df.groupby('station').sum())\n",
    "\n",
    "# --- get station data from station table and save in dataframe ---\n",
    "station_df = pd.DataFrame(session.query(station.station, station.name, station.latitude, station.longitude,\\\n",
    "                                        station.elevation).all())\n",
    "\n",
    "# --- merge the two dataframes together, sort by total precipitation amount ---\n",
    "rainfall_per_station_df = pd.merge(total_prcp, station_df, on=\"station\").rename(columns={\"prcp\":\"total precipitation (in)\"})\n",
    "rainfall_per_station_df.sort_values('total precipitation (in)', ascending=False, inplace=True)\n",
    "rainfall_per_station_df.reset_index(inplace=True, drop=True)\n",
    "\n",
    "# --- display the dataframe ---\n",
    "rainfall_per_station_df"
   ]
  },
  {
   "cell_type": "markdown",
   "metadata": {},
   "source": [
    "### Daily Temperature Normals"
   ]
  },
  {
   "cell_type": "code",
   "execution_count": 13,
   "metadata": {},
   "outputs": [
    {
     "data": {
      "text/plain": [
       "[(62.0, 69.15384615384616, 77.0)]"
      ]
     },
     "execution_count": 13,
     "metadata": {},
     "output_type": "execute_result"
    }
   ],
   "source": [
    "# Use this function to calculate the daily normals \n",
    "# (i.e. the averages for tmin, tmax, and tavg for all historic data matching a specific month and day)\n",
    "\n",
    "def daily_normals(date):\n",
    "    \"\"\"Daily Normals.\n",
    "    \n",
    "    Args:\n",
    "        date (str): A date string in the format '%m-%d'\n",
    "        \n",
    "    Returns:\n",
    "        A list of tuples containing the daily normals, tmin, tavg, and tmax\n",
    "    \n",
    "    \"\"\"\n",
    "    \n",
    "    sel = [func.min(measure.tobs), func.avg(measure.tobs), func.max(measure.tobs)]\n",
    "    return session.query(*sel).filter(func.strftime(\"%m-%d\", measure.date) == date).all()\n",
    "\n",
    "# For example\n",
    "daily_normals(\"01-01\")"
   ]
  },
  {
   "cell_type": "code",
   "execution_count": 14,
   "metadata": {},
   "outputs": [],
   "source": [
    "# calculate the daily normals for your trip\n",
    "# push each tuple of calculations into a list called `normals`\n",
    "\n",
    "# Set the start and end date of the trip\n",
    "start_date = '2017-08-01'\n",
    "end_date = '2017-08-07'\n",
    "\n",
    "# Use the start and end date to create a range of dates\n",
    "start_date = (dt.datetime.strptime(start_date, \"%Y-%m-%d\")).date()\n",
    "end_date = (dt.datetime.strptime(end_date, \"%Y-%m-%d\")).date()\n",
    "\n",
    "# Strip off the year and save a list of strings in the format %m-%d\n",
    "# --- create an empty list to store range of dates ---\n",
    "trip_dates = []\n",
    "# --- new variable to act as start date (so that actual start date is unchanged) ---\n",
    "current_date = start_date\n",
    "# --- while loop to append dates to list in the format %m-%d ---\n",
    "while current_date <= end_date:\n",
    "    month = current_date.strftime('%m')\n",
    "    day = current_date.strftime('%d')\n",
    "    trip_dates.append(f\"{month}-{day}\")\n",
    "    current_date += dt.timedelta(days=1)\n",
    "\n",
    "# Use the `daily_normals` function to calculate the normals for each date string \n",
    "# and append the results to a list called `normals`.\n",
    "# --- create an empty list to store normals ---\n",
    "normals = []\n",
    "\n",
    "# --- for loop to calculate normals for each date in trip_dates list ---\n",
    "for i in range(len(trip_dates)):\n",
    "    day_normal = daily_normals(trip_dates[i])\n",
    "    normals.append(day_normal[0])"
   ]
  },
  {
   "cell_type": "code",
   "execution_count": 15,
   "metadata": {},
   "outputs": [
    {
     "data": {
      "text/html": [
       "<div>\n",
       "<style scoped>\n",
       "    .dataframe tbody tr th:only-of-type {\n",
       "        vertical-align: middle;\n",
       "    }\n",
       "\n",
       "    .dataframe tbody tr th {\n",
       "        vertical-align: top;\n",
       "    }\n",
       "\n",
       "    .dataframe thead th {\n",
       "        text-align: right;\n",
       "    }\n",
       "</style>\n",
       "<table border=\"1\" class=\"dataframe\">\n",
       "  <thead>\n",
       "    <tr style=\"text-align: right;\">\n",
       "      <th></th>\n",
       "      <th>T-Min (F)</th>\n",
       "      <th>T-Avg (F)</th>\n",
       "      <th>T-Max(F)</th>\n",
       "    </tr>\n",
       "    <tr>\n",
       "      <th>Date</th>\n",
       "      <th></th>\n",
       "      <th></th>\n",
       "      <th></th>\n",
       "    </tr>\n",
       "  </thead>\n",
       "  <tbody>\n",
       "    <tr>\n",
       "      <th>08-01</th>\n",
       "      <td>67.0</td>\n",
       "      <td>75.540000</td>\n",
       "      <td>83.0</td>\n",
       "    </tr>\n",
       "    <tr>\n",
       "      <th>08-02</th>\n",
       "      <td>68.0</td>\n",
       "      <td>75.603774</td>\n",
       "      <td>84.0</td>\n",
       "    </tr>\n",
       "    <tr>\n",
       "      <th>08-03</th>\n",
       "      <td>70.0</td>\n",
       "      <td>76.611111</td>\n",
       "      <td>85.0</td>\n",
       "    </tr>\n",
       "    <tr>\n",
       "      <th>08-04</th>\n",
       "      <td>69.0</td>\n",
       "      <td>76.711538</td>\n",
       "      <td>84.0</td>\n",
       "    </tr>\n",
       "    <tr>\n",
       "      <th>08-05</th>\n",
       "      <td>69.0</td>\n",
       "      <td>76.148148</td>\n",
       "      <td>82.0</td>\n",
       "    </tr>\n",
       "    <tr>\n",
       "      <th>08-06</th>\n",
       "      <td>67.0</td>\n",
       "      <td>76.250000</td>\n",
       "      <td>83.0</td>\n",
       "    </tr>\n",
       "    <tr>\n",
       "      <th>08-07</th>\n",
       "      <td>71.0</td>\n",
       "      <td>77.156863</td>\n",
       "      <td>83.0</td>\n",
       "    </tr>\n",
       "  </tbody>\n",
       "</table>\n",
       "</div>"
      ],
      "text/plain": [
       "       T-Min (F)  T-Avg (F)  T-Max(F)\n",
       "Date                                 \n",
       "08-01       67.0  75.540000      83.0\n",
       "08-02       68.0  75.603774      84.0\n",
       "08-03       70.0  76.611111      85.0\n",
       "08-04       69.0  76.711538      84.0\n",
       "08-05       69.0  76.148148      82.0\n",
       "08-06       67.0  76.250000      83.0\n",
       "08-07       71.0  77.156863      83.0"
      ]
     },
     "execution_count": 15,
     "metadata": {},
     "output_type": "execute_result"
    }
   ],
   "source": [
    "# Load the previous query results into a Pandas DataFrame and add the `trip_dates` range as the `date` index\n",
    "dailynormals_df = pd.DataFrame(normals, columns =['T-Min (F)', 'T-Avg (F)', 'T-Max(F)']) \n",
    "dailynormals_df[\"Date\"] = trip_dates\n",
    "dailynormals_df.set_index(\"Date\")"
   ]
  },
  {
   "cell_type": "code",
   "execution_count": 16,
   "metadata": {},
   "outputs": [
    {
     "data": {
      "image/png": "[encoded data removed]",
      "text/plain": [
       "<Figure size 720x432 with 1 Axes>"
      ]
     },
     "metadata": {},
     "output_type": "display_data"
    }
   ],
   "source": [
    "# Plot the daily normals as an area plot with `stacked=False`\n",
    "dailynormals_df.plot.area(figsize=(10,6), stacked=False, alpha = 0.5, rot=90, fontsize=10)\n",
    "\n",
    "plt.xticks(np.arange(len(trip_dates)), labels=trip_dates)\n",
    "\n",
    "plt.title(f\"Daily Normals from {start_date} to {end_date}\", fontsize=18)\n",
    "plt.xlabel(\"Date\", fontsize=16)\n",
    "plt.ylabel(\"Temperature (F)\", fontsize=16)\n",
    "\n",
    "plt.tight_layout()\n",
    "plt.show()"
   ]
  },
  {
   "cell_type": "markdown",
   "metadata": {},
   "source": [
    "## Close Session"
   ]
  },
  {
   "cell_type": "code",
   "execution_count": 17,
   "metadata": {},
   "outputs": [],
   "source": [
    "# Close Session\n",
    "session.close()"
   ]
  }
 ],
 "metadata": {
  "kernelspec": {
   "display_name": "Python 3 (ipykernel)",
   "language": "python",
   "name": "python3"
  },
  "language_info": {
   "codemirror_mode": {
    "name": "ipython",
    "version": 3
   },
   "file_extension": ".py",
   "mimetype": "text/x-python",
   "name": "python",
   "nbconvert_exporter": "python",
   "pygments_lexer": "ipython3",
   "version": "3.9.12"
  }
 },
 "nbformat": 4,
 "nbformat_minor": 4
}
